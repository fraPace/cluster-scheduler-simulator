{
 "cells": [
  {
   "cell_type": "markdown",
   "metadata": {
    "collapsed": false
   },
   "source": [
    "# Google Traces Parser - clusterdata-2011-2"
   ]
  },
  {
   "cell_type": "markdown",
   "metadata": {},
   "source": [
    "This Python notebook parse the google trace called \"clusterdata-2011-2\" and create the necessary trace files required to run \"cluster-scheduler-simulator\".\n",
    "\n",
    "Usefull links:\n",
    "<ul>\n",
    "    <li>\n",
    "        <a href=\"https://github.com/google/cluster-data\"> GitHub </a>\n",
    "    </li>\n",
    "    <li>\n",
    "        <a href=\"https://drive.google.com/open?id=0B5g07T_gRDg9Z0lsSTEtTWtpOW8&authuser=0\"> Format + Schema Document </a>\n",
    "    </li>\n",
    "    <li>\n",
    "        <a href=\"https://groups.google.com/forum/#!forum/googleclusterdata-discuss\"> Mailing List </a>\n",
    "    </li>\n",
    "</ul>\n",
    "Notes:\n",
    "<ul>\n",
    "    <li>\n",
    "        All resources utilization are normalized as explained in the \"Format + Schema Document\" in the above link.\n",
    "        For this reason we will adjust them to real values using the same cell size of the \"cluster-scheduler-simulator\".\n",
    "        File \"init-cluster-state.log\" expect real value of CPU and Memory to calculate the distribution.\n",
    "    </li>\n",
    "</ul>"
   ]
  },
  {
   "cell_type": "code",
   "execution_count": 1,
   "metadata": {
    "collapsed": false
   },
   "outputs": [],
   "source": [
    "from pyspark import SparkConf, SparkContext\n",
    "from pyspark.sql import SQLContext \n",
    "from pyspark.sql.types import *\n",
    "import pyspark.sql.functions as func\n",
    "from pyspark.sql.functions import col\n",
    "\n",
    "import os\n",
    "import errno\n",
    "import itertools\n",
    "from collections import OrderedDict\n",
    "\n",
    "def mkdir_p(path):\n",
    "    path = path.replace(\" \", \"_\")\n",
    "    dir_path = os.path.dirname(path)\n",
    "    try:\n",
    "        os.makedirs(dir_path)\n",
    "    except OSError as exc:  # Python >2.5\n",
    "        if exc.errno == errno.EEXIST and os.path.isdir(dir_path):\n",
    "            pass\n",
    "        else:\n",
    "            raise\n",
    "    return path\n",
    "\n",
    "def print_n_elements(N, dictionary):\n",
    "    i = 0\n",
    "    for key, value in dictionary.items():\n",
    "        print(\"{}: {}\".format(key, value))\n",
    "        if i > N:\n",
    "            break\n",
    "        i += 1"
   ]
  },
  {
   "cell_type": "code",
   "execution_count": 2,
   "metadata": {
    "collapsed": true
   },
   "outputs": [],
   "source": [
    "# Config values\n",
    "CLUSTER_INFO = {\n",
    "    \"mem_machine\": 128 * (1024**3),\n",
    "    \"cpu_machine\": 32\n",
    "}\n",
    "\n",
    "sparkConf = (\n",
    "    SparkConf()\n",
    "#     .set(\"spark.master\", os.environ[\"SPARK_MASTER\"])\n",
    "#     .set(\"spark.executor.memory\", os.environ[\"SPARK_EXECUTOR_RAM\"])\n",
    "    .set(\"spark.driver.maxResultSize\", 0)\n",
    "#     .set(\"spark.driver.memory\", \"10g\")\n",
    "       )\n",
    "\n",
    "SIMULATOR_TRACES_OUTPUT_FOLDER = \"google-simulator-traces/\"\n",
    "JOB_TRACES_OUTPUT_FOLDER = \"job-distribution-traces/\""
   ]
  },
  {
   "cell_type": "code",
   "execution_count": 3,
   "metadata": {
    "collapsed": false,
    "scrolled": true
   },
   "outputs": [
    {
     "name": "stdout",
     "output_type": "stream",
     "text": [
      "+---------------------------------------------+------------+-------------------------------+----------------------+---------+\n",
      "|file_pattern                                 |field_number|content                        |format                |mandatory|\n",
      "+---------------------------------------------+------------+-------------------------------+----------------------+---------+\n",
      "|job_events/part-?????-of-?????.csv.gz        |1           |time                           |INTEGER               |YES      |\n",
      "|job_events/part-?????-of-?????.csv.gz        |2           |missing info                   |INTEGER               |NO       |\n",
      "|job_events/part-?????-of-?????.csv.gz        |3           |job ID                         |INTEGER               |YES      |\n",
      "|job_events/part-?????-of-?????.csv.gz        |4           |event type                     |INTEGER               |YES      |\n",
      "|job_events/part-?????-of-?????.csv.gz        |5           |user                           |STRING_HASH           |NO       |\n",
      "|job_events/part-?????-of-?????.csv.gz        |6           |scheduling class               |INTEGER               |NO       |\n",
      "|job_events/part-?????-of-?????.csv.gz        |7           |job name                       |STRING_HASH           |NO       |\n",
      "|job_events/part-?????-of-?????.csv.gz        |8           |logical job name               |STRING_HASH           |NO       |\n",
      "|task_events/part-?????-of-?????.csv.gz       |1           |time                           |INTEGER               |YES      |\n",
      "|task_events/part-?????-of-?????.csv.gz       |2           |missing info                   |INTEGER               |NO       |\n",
      "|task_events/part-?????-of-?????.csv.gz       |3           |job ID                         |INTEGER               |YES      |\n",
      "|task_events/part-?????-of-?????.csv.gz       |4           |task index                     |INTEGER               |YES      |\n",
      "|task_events/part-?????-of-?????.csv.gz       |5           |machine ID                     |INTEGER               |NO       |\n",
      "|task_events/part-?????-of-?????.csv.gz       |6           |event type                     |INTEGER               |YES      |\n",
      "|task_events/part-?????-of-?????.csv.gz       |7           |user                           |STRING_HASH           |NO       |\n",
      "|task_events/part-?????-of-?????.csv.gz       |8           |scheduling class               |INTEGER               |NO       |\n",
      "|task_events/part-?????-of-?????.csv.gz       |9           |priority                       |INTEGER               |YES      |\n",
      "|task_events/part-?????-of-?????.csv.gz       |10          |CPU request                    |FLOAT                 |NO       |\n",
      "|task_events/part-?????-of-?????.csv.gz       |11          |memory request                 |FLOAT                 |NO       |\n",
      "|task_events/part-?????-of-?????.csv.gz       |12          |disk space request             |FLOAT                 |NO       |\n",
      "|task_events/part-?????-of-?????.csv.gz       |13          |different machines restriction |BOOLEAN               |NO       |\n",
      "|machine_events/part-00000-of-00001.csv.gz    |1           |time                           |INTEGER               |YES      |\n",
      "|machine_events/part-00000-of-00001.csv.gz    |2           |machine ID                     |INTEGER               |YES      |\n",
      "|machine_events/part-00000-of-00001.csv.gz    |3           |event type                     |INTEGER               |YES      |\n",
      "|machine_events/part-00000-of-00001.csv.gz    |4           |platform ID                    |STRING_HASH           |NO       |\n",
      "|machine_events/part-00000-of-00001.csv.gz    |5           |CPUs                           |FLOAT                 |NO       |\n",
      "|machine_events/part-00000-of-00001.csv.gz    |6           |Memory                         |FLOAT                 |NO       |\n",
      "|machine_attributes/part-00000-of-00001.csv.gz|1           |time                           |INTEGER               |YES      |\n",
      "|machine_attributes/part-00000-of-00001.csv.gz|2           |machine ID                     |INTEGER               |YES      |\n",
      "|machine_attributes/part-00000-of-00001.csv.gz|3           |attribute name                 |STRING_HASH           |YES      |\n",
      "|machine_attributes/part-00000-of-00001.csv.gz|4           |attribute value                |STRING_HASH_OR_INTEGER|NO       |\n",
      "|machine_attributes/part-00000-of-00001.csv.gz|5           |attribute deleted              |BOOLEAN               |YES      |\n",
      "|task_constraints/part-?????-of-?????.csv.gz  |1           |time                           |INTEGER               |YES      |\n",
      "|task_constraints/part-?????-of-?????.csv.gz  |2           |job ID                         |INTEGER               |YES      |\n",
      "|task_constraints/part-?????-of-?????.csv.gz  |3           |task index                     |INTEGER               |YES      |\n",
      "|task_constraints/part-?????-of-?????.csv.gz  |4           |comparison operator            |INTEGER               |YES      |\n",
      "|task_constraints/part-?????-of-?????.csv.gz  |5           |attribute name                 |STRING_HASH           |YES      |\n",
      "|task_constraints/part-?????-of-?????.csv.gz  |6           |attribute value                |STRING_HASH_OR_INTEGER|NO       |\n",
      "|task_usage/part-?????-of-?????.csv.gz        |1           |start time                     |INTEGER               |YES      |\n",
      "|task_usage/part-?????-of-?????.csv.gz        |2           |end time                       |INTEGER               |YES      |\n",
      "|task_usage/part-?????-of-?????.csv.gz        |3           |job ID                         |INTEGER               |YES      |\n",
      "|task_usage/part-?????-of-?????.csv.gz        |4           |task index                     |INTEGER               |YES      |\n",
      "|task_usage/part-?????-of-?????.csv.gz        |5           |machine ID                     |INTEGER               |YES      |\n",
      "|task_usage/part-?????-of-?????.csv.gz        |6           |CPU rate                       |FLOAT                 |NO       |\n",
      "|task_usage/part-?????-of-?????.csv.gz        |7           |canonical memory usage         |FLOAT                 |NO       |\n",
      "|task_usage/part-?????-of-?????.csv.gz        |8           |assigned memory usage          |FLOAT                 |NO       |\n",
      "|task_usage/part-?????-of-?????.csv.gz        |9           |unmapped page cache            |FLOAT                 |NO       |\n",
      "|task_usage/part-?????-of-?????.csv.gz        |10          |total page cache               |FLOAT                 |NO       |\n",
      "|task_usage/part-?????-of-?????.csv.gz        |11          |maximum memory usage           |FLOAT                 |NO       |\n",
      "|task_usage/part-?????-of-?????.csv.gz        |12          |disk I/O time                  |FLOAT                 |NO       |\n",
      "|task_usage/part-?????-of-?????.csv.gz        |13          |local disk space usage         |FLOAT                 |NO       |\n",
      "|task_usage/part-?????-of-?????.csv.gz        |14          |maximum CPU rate               |FLOAT                 |NO       |\n",
      "|task_usage/part-?????-of-?????.csv.gz        |15          |maximum disk IO time           |FLOAT                 |NO       |\n",
      "|task_usage/part-?????-of-?????.csv.gz        |16          |cycles per instruction         |FLOAT                 |NO       |\n",
      "|task_usage/part-?????-of-?????.csv.gz        |17          |memory accesses per instruction|FLOAT                 |NO       |\n",
      "|task_usage/part-?????-of-?????.csv.gz        |18          |sample portion                 |FLOAT                 |NO       |\n",
      "|task_usage/part-?????-of-?????.csv.gz        |19          |aggregation type               |BOOLEAN               |NO       |\n",
      "|task_usage/part-?????-of-?????.csv.gz        |20          |sampled CPU usage              |FLOAT                 |NO       |\n",
      "+---------------------------------------------+------------+-------------------------------+----------------------+---------+\n",
      "\n"
     ]
    }
   ],
   "source": [
    "# Create output folder structure\n",
    "SIMULATOR_TRACES_OUTPUT_FOLDER = mkdir_p(os.path.join(\".\", SIMULATOR_TRACES_OUTPUT_FOLDER))\n",
    "JOB_TRACES_OUTPUT_FOLDER = mkdir_p(os.path.join(SIMULATOR_TRACES_OUTPUT_FOLDER, JOB_TRACES_OUTPUT_FOLDER))\n",
    "\n",
    "# Restart SparkContext\n",
    "sc.stop()\n",
    "sc=SparkContext(conf=sparkConf)\n",
    "sqlContext = SQLContext(sc)\n",
    "\n",
    "# Parsing Schemas\n",
    "schema = StructType([ \\\n",
    "    StructField(\"file_pattern\", StringType(), False), \\\n",
    "    StructField(\"field_number\", IntegerType(), False), \\\n",
    "    StructField(\"content\", StringType(), False), \\\n",
    "    StructField(\"format\", StringType(), False), \\\n",
    "    StructField(\"mandatory\", StringType(), False)])\n",
    "schema_all = sqlContext.read.format(\"com.databricks.spark.csv\").options(header='true') \\\n",
    "    .load(\"clusterdata-2011-2/schema.csv\", schema=schema)\n",
    "# Displays the content of the DataFrame\n",
    "schema_all.show(n=schema_all.count(), truncate=False)\n",
    "format_type = {\n",
    "    \"INTEGER\": DecimalType(32,0),\n",
    "    \"STRING_HASH\": StringType(),\n",
    "    \"FLOAT\": FloatType(),\n",
    "    \"BOOLEAN\": DecimalType(),\n",
    "    \"STRING_HASH_OR_INTEGER\": StringType()    \n",
    "}\n",
    "schemas = {}\n",
    "for line in schema_all.orderBy(\"file_pattern\", \"field_number\").select(\"*\").collect():\n",
    "    line = line.asDict()\n",
    "    try:\n",
    "        if line[\"file_pattern\"] not in schemas:\n",
    "            schemas[line[\"file_pattern\"]] = []\n",
    "\n",
    "        schemas[line[\"file_pattern\"]].append(\n",
    "            StructField(\n",
    "                line[\"content\"].replace(' ', '_'),\n",
    "                format_type[line[\"format\"]],\n",
    "                line[\"mandatory\"] != \"YES\"\n",
    "            )\n",
    "        )\n",
    "    except KeyError as e:\n",
    "        print(e)\n",
    "\n",
    "max_time = pow(2, 63) - 1"
   ]
  },
  {
   "cell_type": "code",
   "execution_count": 4,
   "metadata": {
    "collapsed": false
   },
   "outputs": [],
   "source": [
    "# Creating DataFrames\n",
    "dataframes = {}\n",
    "for file_pattern in schemas:\n",
    "    dataframes[os.path.dirname(file_pattern)] = sqlContext.read.format(\"com.databricks.spark.csv\") \\\n",
    "        .load(\"clusterdata-2011-2/\" + file_pattern, schema=StructType(schemas[file_pattern]))\n",
    "        \n",
    "\n",
    "job_events = dataframes[\"job_events\"]\n",
    "#job_events.show(truncate=False)\n",
    "\n",
    "task_events = dataframes[\"task_events\"]\n",
    "#task_events.show(truncate=False)\n",
    "\n",
    "task_usage = dataframes[\"task_usage\"]\n",
    "#task_usage.show(truncate=False)\n",
    "\n",
    "machine_events = dataframes[\"machine_events\"]\n",
    "#machine_events.show(truncate=False)\n",
    "\n",
    "\n",
    "jobs_submitted = job_events[(job_events.event_type == 0)]\n",
    "jobs_scheduled = job_events[(job_events.event_type == 1)]\n",
    "jobs_finished = job_events[job_events.event_type == 4]\n",
    "\n",
    "jobs_running_before_time_window = job_events[(job_events.event_type == 1) & (job_events.time == 0)]\n",
    "jobs_submitted_or_finished_in_time_window = job_events[((job_events.event_type == 0) | (job_events.event_type == 4)) & \\\n",
    "                                                       ((job_events.time > 0) & (job_events.time < max_time))]\n",
    "jobs_in_production = job_events[(job_events.scheduling_class != 0) & (job_events.scheduling_class != 1)]\n",
    "jobs_not_in_production = job_events[(job_events.scheduling_class == 0) | (job_events.scheduling_class == 1)]\n",
    "\n",
    "tasks_submitted = task_events[task_events.event_type == 0]\n",
    "tasks_sumbmitted_in_production = task_events[(task_events.event_type == 0) & (task_events.priority >= 9)]\n",
    "tasks_in_production = task_events[task_events.priority >= 9]\n",
    "tasks_not_in_production = task_events[task_events.priority < 9]"
   ]
  },
  {
   "cell_type": "markdown",
   "metadata": {},
   "source": [
    "## Parsing information for init-cluster-state.log"
   ]
  },
  {
   "cell_type": "code",
   "execution_count": 5,
   "metadata": {
    "collapsed": true
   },
   "outputs": [],
   "source": [
    "# Creating variables\n",
    "finished = {}\n",
    "production = {}\n",
    "tasks = {}\n",
    "resources_per_job = {}\n",
    "\n",
    "# Caching DataFrames usefull for this section\n",
    "jobs = jobs_running_before_time_window.select(func.col(\"job_ID\"), func.col(\"scheduling_class\")).cache()"
   ]
  },
  {
   "cell_type": "code",
   "execution_count": 6,
   "metadata": {
    "collapsed": false
   },
   "outputs": [
    {
     "name": "stdout",
     "output_type": "stream",
     "text": [
      "Information about jobs submitted before the time window:\n",
      "    Total: 3984\n",
      "    Ended during the trace: 79\n",
      "    Production: 2525\n",
      "    Have at least 1 task: 3979\n",
      "    With info about resources: 3979\n"
     ]
    }
   ],
   "source": [
    "# Getting information about jobs that were running before the time window\n",
    "print(\"Information about jobs submitted before the time window:\")\n",
    "print(\"    Total: {}\".format(jobs.count()))\n",
    "\n",
    "finished = jobs_finished.join(jobs, on=\"job_ID\").select(func.col(\"job_ID\"), func.col(\"time\")).rdd.collectAsMap()\n",
    "# print_n_elements(10, finished)\n",
    "print(\"    Ended during the trace: {}\".format(len(finished)))\n",
    "\n",
    "production = tasks_sumbmitted_in_production.join(jobs, on=\"job_ID\").groupBy(func.col(\"job_ID\")).count().rdd.collectAsMap()\n",
    "# print_n_elements(10, production)\n",
    "print(\"    Production: {}\".format(len(production)))\n",
    "\n",
    "tasks = tasks_submitted.join(jobs, on=\"job_ID\").groupBy(func.col(\"job_ID\")) \\\n",
    "        .agg(func.countDistinct(\"task_index\").alias(\"tasks\")).where(\"tasks >= 1\").rdd.collectAsMap()\n",
    "# print_n_elements(10, tasks)\n",
    "print(\"    Have at least 1 task: {}\".format(len(tasks)))\n",
    "\n",
    "# Getting information about resources\n",
    "resources_per_job = task_events.join(jobs, on=\"job_ID\").groupBy(func.col(\"job_ID\"), func.col(\"task_index\")) \\\n",
    "        .agg(func.avg(\"CPU_request\").alias(\"cpu\"),func.avg(\"memory_request\").alias(\"memory\")) \\\n",
    "        .groupBy(func.col(\"job_ID\")).agg(func.max(\"cpu\").alias(\"cpu\"),func.max(\"memory\").alias(\"memory\")) \\\n",
    "        .rdd.map(lambda x: (x[0], {\"cpu\" : x[1] * CLUSTER_INFO[\"cpu_machine\"], \"memory\": x[2] * CLUSTER_INFO[\"mem_machine\"]})) \\\n",
    "        .collectAsMap()\n",
    "# print_n_elements(10, resources_per_job)\n",
    "print(\"    With info about resources: {}\".format(len(resources_per_job)))"
   ]
  },
  {
   "cell_type": "code",
   "execution_count": 7,
   "metadata": {
    "collapsed": false
   },
   "outputs": [
    {
     "name": "stdout",
     "output_type": "stream",
     "text": [
      "Saving results to file...\n",
      "Done. Jobs processed: 3979\n"
     ]
    }
   ],
   "source": [
    "# Write init-cluster-state.log\n",
    "print(\"Saving results to file...\")\n",
    "job_count = 0\n",
    "with open(os.path.join(SIMULATOR_TRACES_OUTPUT_FOLDER, \"init-cluster-state.log\"), \"w\") as init_cluster_state:\n",
    "    for job in jobs.collect():\n",
    "        # === Common Columns ===\n",
    "        # Column 0: possible values are 11 or 12\n",
    "        #   \"11\" - (8 column schema) something that was there at the beginning of timewindow\n",
    "        #   \"12\" - (6 column schema) something that was there at beginning of timewindow and ended at [timestamp] (see Column 1)\n",
    "        # Column 1: timestamp\n",
    "        # Column 2: unique job ID\n",
    "        # Column 3: 0 or 1 - prod_job - boolean flag indicating if this job is \"production\" priority as described in [1]\n",
    "        # Column 4: 0, 1, 2, or 3 - sched_class - see description of \"Scheduling Class\" in [1]\n",
    "        column_0 = 11\n",
    "        column_1 = 0\n",
    "        column_2 = job.job_ID\n",
    "        column_3 = 0\n",
    "        column_4 = job.scheduling_class\n",
    "        # === 6 column format ===\n",
    "        # Column 5: UNSPECIFIED/UNUSED\n",
    "        #\n",
    "        # === 8 column format ===\n",
    "        # Column 5: number of tasks\n",
    "        # Column 6: aggregate CPU usage of job (in num cores)\n",
    "        # Column 7: aggregate Ram usage of job (in bytes)\n",
    "        column_5 = 0\n",
    "        column_6 = 0\n",
    "        column_7 = 0\n",
    "        \n",
    "        if job.job_ID in production:\n",
    "            column_3 = 1\n",
    "        \n",
    "        if job.job_ID in tasks:\n",
    "            column_5 = tasks[job.job_ID]\n",
    "        \n",
    "        # What's the point in adding a job with 0 tasks to the trace?\n",
    "        # Also, if we do so we will get an error\n",
    "        if column_5 == 0:\n",
    "            continue\n",
    "        \n",
    "        if job.job_ID in resources_per_job:\n",
    "            column_6 = resources_per_job[job.job_ID][\"cpu\"]\n",
    "            column_7 = int(resources_per_job[job.job_ID][\"memory\"])\n",
    "            \n",
    "        init_cluster_state.write(\"{} {} {} {} {} {} {} {}\\n\".format(\n",
    "                column_0, column_1, column_2, column_3, column_4, column_5, column_6, column_7))\n",
    "        \n",
    "        if job.job_ID in finished:\n",
    "            column_0 = 12\n",
    "            column_1 = finished[job.job_ID] \n",
    "            init_cluster_state.write(\"{} {} {} {} {} {}\\n\".format(\n",
    "                column_0, column_1, column_2, column_3, column_4, column_5))\n",
    "        job_count += 1\n",
    "        \n",
    "print(\"Done. Jobs processed: {}\".format(job_count))"
   ]
  },
  {
   "cell_type": "code",
   "execution_count": 8,
   "metadata": {
    "collapsed": false
   },
   "outputs": [
    {
     "data": {
      "text/plain": [
       "DataFrame[job_ID: decimal(32,0), scheduling_class: decimal(32,0)]"
      ]
     },
     "execution_count": 8,
     "metadata": {},
     "output_type": "execute_result"
    }
   ],
   "source": [
    "# Removing RDDs from memory\n",
    "jobs.unpersist()"
   ]
  },
  {
   "cell_type": "markdown",
   "metadata": {},
   "source": [
    "## Parsing information for {interarrival, runtime, csizes}.log"
   ]
  },
  {
   "cell_type": "code",
   "execution_count": 9,
   "metadata": {
    "collapsed": false
   },
   "outputs": [],
   "source": [
    "# Creating variables\n",
    "submitted = {}\n",
    "scheduled = {}\n",
    "finished = {}\n",
    "tasks = {}\n",
    "production = {}\n",
    "\n",
    "\n",
    "# Caching DataFrames usefull for this section\n",
    "jobs = jobs_submitted_or_finished_in_time_window.orderBy(job_events.time) \\\n",
    "        .groupBy(job_events.job_ID).count().where(\"count = 2\").cache()"
   ]
  },
  {
   "cell_type": "code",
   "execution_count": 10,
   "metadata": {
    "collapsed": false
   },
   "outputs": [
    {
     "name": "stdout",
     "output_type": "stream",
     "text": [
      "Information about jobs that ran during the time window:\n",
      "    Total: 385502\n",
      "    Submitted: 385502\n",
      "    Scheduled: 385502\n",
      "    Finished: 385502\n",
      "    Production: 35838\n",
      "    Have at least 1 task: 385482\n"
     ]
    }
   ],
   "source": [
    "# Getting information about jobs that ran during the time window\n",
    "print(\"Information about jobs that ran during the time window:\")\n",
    "print(\"    Total: {}\".format(jobs.count()))\n",
    "\n",
    "submitted = jobs_submitted.join(jobs, on=\"job_ID\").orderBy(func.col(\"time\")) \\\n",
    "    .select(func.col(\"job_ID\"), func.col(\"time\"), func.col(\"scheduling_class\")).rdd\\\n",
    "    .map(lambda x: (x[0], {\"submitted\":x[1], \"scheduling_class\":x[2]})).collectAsMap()\n",
    "# print_n_elements(10, submitted)\n",
    "print(\"    Submitted: {}\".format(len(submitted)))\n",
    "\n",
    "scheduled = jobs_scheduled.join(jobs, on=\"job_ID\").select(func.col(\"job_ID\"), func.col(\"time\")).rdd.collectAsMap()\n",
    "# print_n_elements(10, scheduled)\n",
    "print(\"    Scheduled: {}\".format(len(scheduled)))\n",
    "\n",
    "finished = jobs_finished.join(jobs, on=\"job_ID\").select(func.col(\"job_ID\"), func.col(\"time\")).rdd.collectAsMap()\n",
    "# print_n_elements(10, finished)\n",
    "print(\"    Finished: {}\".format(len(finished)))\n",
    "      \n",
    "production = tasks_sumbmitted_in_production.join(jobs, on=\"job_ID\").groupBy(func.col(\"job_ID\")).count().rdd.collectAsMap()\n",
    "# print_n_elements(10, production)\n",
    "print(\"    Production: {}\".format(len(production)))\n",
    "\n",
    "tasks = tasks_submitted.join(jobs, on=\"job_ID\").groupBy(func.col(\"job_ID\")) \\\n",
    "        .agg(func.countDistinct(\"task_index\").alias(\"tasks\")).where(\"tasks >= 1\").rdd.collectAsMap()\n",
    "# print_n_elements(10, tasks)\n",
    "print(\"    Have at least 1 task: {}\".format(len(tasks)))"
   ]
  },
  {
   "cell_type": "code",
   "execution_count": 11,
   "metadata": {
    "collapsed": false
   },
   "outputs": [
    {
     "name": "stdout",
     "output_type": "stream",
     "text": [
      "Saving results to files...\n",
      "Done. Jobs processed: 385482\n"
     ]
    }
   ],
   "source": [
    "# Write {interarrival_cmb,runtimes_cmb,csizes_cmb}.log\n",
    "print(\"Saving results to files...\")\n",
    "\n",
    "interarrival_cmb = open(os.path.join(JOB_TRACES_OUTPUT_FOLDER, \"interarrival_cmb.log\"), \"w\")\n",
    "runtimes_cmb = open(os.path.join(JOB_TRACES_OUTPUT_FOLDER, \"runtimes_cmb.log\"), \"w\")\n",
    "csizes_cmb = open(os.path.join(JOB_TRACES_OUTPUT_FOLDER, \"csizes_cmb.log\"), \"w\")\n",
    "\n",
    "previous_arrival = 0\n",
    "job_count = 0\n",
    "for job_ID, _ in sorted(submitted.items(), key=lambda x: x[1][\"submitted\"], reverse=False):\n",
    "    # What's the point in adding a job with 0 tasks to the trace?\n",
    "    # Also, if we do so we will get an error\n",
    "    if job_ID not in tasks:\n",
    "        continue\n",
    "        \n",
    "    # === Columns ===\n",
    "    # Column 0: cluster_name\n",
    "    # Column 1: assignment policy (\"cmb-new\" = \"CMB_PBB\")\n",
    "    # Column 2: scheduler id, values can be 0 or 1. 0 = batch, service = 1\n",
    "    # Column 3: depending on which trace file:\n",
    "    #     interarrival time (seconds since last job arrival)\n",
    "    #     OR tasks in job\n",
    "    #     OR job runtime (seconds)\n",
    "    column_0 = \"test\"\n",
    "    column_1 = \"cmb-new\"\n",
    "    column_2 = 1 if job_ID in production and \\\n",
    "            (submitted[job_ID][\"scheduling_class\"] != 0 and submitted[job_ID][\"scheduling_class\"] != 1) else 0\n",
    "    \n",
    "    if submitted[job_ID][\"submitted\"] - previous_arrival < 0:\n",
    "        print(\"Error. Dataset is not ordered by arrival time!\")\n",
    "        break\n",
    "    interarrival_cmb.write(\"{} {} {} {} \\n\".format(column_0, column_1, column_2, \\\n",
    "                                                   (submitted[job_ID][\"submitted\"] - previous_arrival)/1000000))\n",
    "    runtimes_cmb.write(\"{} {} {} {} \\n\".format(column_0, column_1, column_2, (finished[job_ID] - scheduled[job_ID])/1000000))\n",
    "    csizes_cmb.write(\"{} {} {} {} \\n\".format(column_0, column_1, column_2, tasks[job_ID]))\n",
    "    \n",
    "    previous_arrival = submitted[job_ID][\"submitted\"]\n",
    "    job_count += 1\n",
    "\n",
    "interarrival_cmb.close()\n",
    "runtimes_cmb.close()\n",
    "csizes_cmb.close()\n",
    "\n",
    "print(\"Done. Jobs processed: {}\".format(job_count))"
   ]
  },
  {
   "cell_type": "code",
   "execution_count": 12,
   "metadata": {
    "collapsed": false
   },
   "outputs": [
    {
     "data": {
      "text/plain": [
       "DataFrame[job_ID: decimal(32,0), count: bigint]"
      ]
     },
     "execution_count": 12,
     "metadata": {},
     "output_type": "execute_result"
    }
   ],
   "source": [
    "# Removing RDDs from memory\n",
    "jobs.unpersist()"
   ]
  },
  {
   "cell_type": "markdown",
   "metadata": {},
   "source": [
    "## Parsing information about resources utilization"
   ]
  },
  {
   "cell_type": "code",
   "execution_count": 13,
   "metadata": {
    "collapsed": false
   },
   "outputs": [],
   "source": [
    "# Creating variables\n",
    "cpus_service = {}\n",
    "cpus_service_without_errors = {}\n",
    "memory_service = {}\n",
    "memory_service_without_errors = {}\n",
    "cpus_batch = {}\n",
    "cpus_batch_without_errors = {}\n",
    "memory_batch = {}\n",
    "memory_batch_without_errors = {}\n",
    "\n",
    "\n",
    "# Caching DataFrames usefull for this section\n",
    "resources_requested_service = tasks_in_production.join(jobs_in_production.select(func.col(\"job_ID\")), on=\"job_ID\") \\\n",
    "    .groupBy(func.col(\"job_ID\"), func.col(\"task_index\")) \\\n",
    "    .agg(func.avg(\"CPU_request\").alias(\"CPU_request\"),func.avg(\"memory_request\").alias(\"memory_request\")).cache()\n",
    "jobs_service = task_usage.select(\n",
    "    func.col(\"job_ID\"), func.col(\"task_index\"), func.col(\"CPU_rate\"), func.col(\"canonical_memory_usage\")) \\\n",
    "        .join(resources_requested_service, on=[\"job_ID\", \"task_index\"]) \\\n",
    "        .select(\n",
    "            ((func.col(\"CPU_rate\")) / ((func.col(\"CPU_request\")))).alias(\"cpu_used\"),\n",
    "            ((func.col(\"canonical_memory_usage\")) / ((func.col(\"memory_request\")))).alias(\"memory_used\")\n",
    "        ).cache()\n",
    "        \n",
    "resources_requested_batch = tasks_not_in_production.join(jobs_not_in_production.select(func.col(\"job_ID\")), on=\"job_ID\") \\\n",
    "    .groupBy(func.col(\"job_ID\"), func.col(\"task_index\")) \\\n",
    "    .agg(func.avg(\"CPU_request\").alias(\"CPU_request\"),func.avg(\"memory_request\").alias(\"memory_request\")).cache()\n",
    "jobs_batch = task_usage.select(\n",
    "    func.col(\"job_ID\"), func.col(\"task_index\"), func.col(\"CPU_rate\"), func.col(\"canonical_memory_usage\")) \\\n",
    "        .join(resources_requested_batch, on=[\"job_ID\", \"task_index\"]) \\\n",
    "        .select(\n",
    "            ((func.col(\"CPU_rate\")) / ((func.col(\"CPU_request\")))).alias(\"cpu_used\"),\n",
    "            ((func.col(\"canonical_memory_usage\")) / ((func.col(\"memory_request\")))).alias(\"memory_used\")\n",
    "        ).cache()"
   ]
  },
  {
   "cell_type": "code",
   "execution_count": 14,
   "metadata": {
    "collapsed": false
   },
   "outputs": [
    {
     "name": "stdout",
     "output_type": "stream",
     "text": [
      "Information about service jobs resources utilization (CPU and Memory):\n",
      "    CPU points: 1859304\n",
      "    CPU points with values 0 >= X <= 1: 1716475\n",
      "    Memory points: 1059375\n",
      "    Memory points with values 0 >= X <= 1: 1015394\n"
     ]
    }
   ],
   "source": [
    "# Getting information about the resources utilization (CPU and Memory) of service jobs\n",
    "print(\"Information about service jobs resources utilization (CPU and Memory):\")\n",
    "\n",
    "cpus_service = jobs_service[func.col(\"cpu_used\") >= 0].groupBy(func.col(\"cpu_used\")).count() \\\n",
    "    .orderBy(func.col(\"cpu_used\")).rdd.map(lambda x: x).collect()\n",
    "print(\"    CPU points: {}\".format(len(cpus_service)))\n",
    "\n",
    "cpus_service_without_errors = jobs_service[(func.col(\"cpu_used\") >= 0) & (func.col(\"cpu_used\") <= 1)] \\\n",
    "    .groupBy(func.col(\"cpu_used\")).count() \\\n",
    "    .orderBy(func.col(\"cpu_used\")).rdd.map(lambda x: x).collect()\n",
    "print(\"    CPU points with values 0 >= X <= 1: {}\".format(len(cpus_service_without_errors)))\n",
    "\n",
    "memory_service = jobs_service[func.col(\"memory_used\") >= 0].groupBy(func.col(\"memory_used\")).count() \\\n",
    "    .orderBy(func.col(\"memory_used\")).rdd.map(lambda x: x).collect()\n",
    "print(\"    Memory points: {}\".format(len(memory_service)))\n",
    "\n",
    "memory_service_without_errors = jobs_service[(func.col(\"memory_used\") >= 0) & (func.col(\"memory_used\") <= 1)] \\\n",
    "    .groupBy(func.col(\"memory_used\")).count() \\\n",
    "    .orderBy(func.col(\"memory_used\")).rdd.map(lambda x: x).collect()\n",
    "print(\"    Memory points with values 0 >= X <= 1: {}\".format(len(memory_service_without_errors)))"
   ]
  },
  {
   "cell_type": "code",
   "execution_count": 15,
   "metadata": {
    "collapsed": false
   },
   "outputs": [
    {
     "name": "stdout",
     "output_type": "stream",
     "text": [
      "Information about batch jobs resources utilization (CPU and Memory):\n",
      "    CPU points: 3388749\n",
      "    CPU points with values 0 >= X <= 1: 2642126\n",
      "    Memory points: 2859912\n",
      "    Memory points with values 0 >= X <= 1: 2780524\n"
     ]
    }
   ],
   "source": [
    "# Getting information about the resources utilization (CPU and Memory) of batch jobs\n",
    "print(\"Information about batch jobs resources utilization (CPU and Memory):\")\n",
    "\n",
    "cpus_batch = jobs_batch[func.col(\"cpu_used\") >= 0].groupBy(func.col(\"cpu_used\")).count() \\\n",
    "    .orderBy(func.col(\"cpu_used\")).rdd.map(lambda x: x).collect()\n",
    "print(\"    CPU points: {}\".format(len(cpus_batch)))\n",
    "\n",
    "cpus_batch_without_errors = jobs_batch[(func.col(\"cpu_used\") >= 0) & (func.col(\"cpu_used\") <= 1)] \\\n",
    "    .groupBy(func.col(\"cpu_used\")).count() \\\n",
    "    .orderBy(func.col(\"cpu_used\")).rdd.map(lambda x: x).collect()\n",
    "print(\"    CPU points with values 0 >= X <= 1: {}\".format(len(cpus_batch_without_errors)))\n",
    "\n",
    "memory_batch = jobs_batch[func.col(\"memory_used\") >= 0].groupBy(func.col(\"memory_used\")).count() \\\n",
    "    .orderBy(func.col(\"memory_used\")).rdd.map(lambda x: x).collect()\n",
    "print(\"    Memory points: {}\".format(len(memory_batch)))\n",
    "\n",
    "memory_batch_without_errors = jobs_batch[(func.col(\"memory_used\") >= 0) & (func.col(\"memory_used\") <= 1)] \\\n",
    "    .groupBy(func.col(\"memory_used\")).count() \\\n",
    "    .orderBy(func.col(\"memory_used\")).rdd.map(lambda x: x).collect()\n",
    "print(\"    Memory points with values 0 >= X <= 1: {}\".format(len(memory_batch_without_errors)))"
   ]
  },
  {
   "cell_type": "code",
   "execution_count": 16,
   "metadata": {
    "collapsed": false
   },
   "outputs": [
    {
     "name": "stdout",
     "output_type": "stream",
     "text": [
      "Saving results to file...\n",
      "    Dumped 1716475 records on file ./google-simulator-traces/job-distribution-traces/cpu_slack.log\n",
      "    Dumped 2642126 records on file ./google-simulator-traces/job-distribution-traces/cpu_slack.log\n",
      "    Dumped 1015394 records on file ./google-simulator-traces/job-distribution-traces/memory_slack.log\n",
      "    Dumped 2780524 records on file ./google-simulator-traces/job-distribution-traces/memory_slack.log\n",
      "Done.\n"
     ]
    }
   ],
   "source": [
    "# Write {cpu,memory}_slack.log\n",
    "print(\"Saving results to file...\")\n",
    "\n",
    "def dump_on_file(data, service, file):    \n",
    "    job_count = 0\n",
    "    for key, value in data:\n",
    "        # === Columns ===\n",
    "        # Column 0: cluster_name\n",
    "        # Column 1: assignment policy (\"cmb-new\" = \"CMB_PBB\")\n",
    "        # Column 2: scheduler id, values can be 0 or 1. 0 = batch, service = 1\n",
    "        # Column 3: cpu or memory slack\n",
    "        # Column 4: occurrences\n",
    "        column_0 = \"test\"\n",
    "        column_1 = \"cmb-new\"\n",
    "        column_2 = 1 if service else 0\n",
    "        column_3 = key\n",
    "        column_4 = value\n",
    "\n",
    "        file.write(\"{} {} {} {} {} \\n\".format(column_0, column_1, column_2, column_3, column_4))\n",
    "        job_count += 1\n",
    "    \n",
    "    print(\"    Dumped {} records on file {}\".format(job_count, file.name))\n",
    "\n",
    "cpu_slack = open(os.path.join(JOB_TRACES_OUTPUT_FOLDER, \"cpu_slack.log\"), \"w\")\n",
    "dump_on_file(cpus_service_without_errors, True, cpu_slack)\n",
    "dump_on_file(cpus_batch_without_errors, False, cpu_slack)\n",
    "cpu_slack.close()\n",
    "\n",
    "memory_slack = open(os.path.join(JOB_TRACES_OUTPUT_FOLDER, \"memory_slack.log\"), \"w\")\n",
    "dump_on_file(memory_service_without_errors, True, memory_slack)\n",
    "dump_on_file(memory_batch_without_errors, False, memory_slack)\n",
    "memory_slack.close()\n",
    "\n",
    "print(\"Done.\")"
   ]
  },
  {
   "cell_type": "code",
   "execution_count": 17,
   "metadata": {
    "collapsed": false
   },
   "outputs": [
    {
     "data": {
      "text/plain": [
       "DataFrame[cpu_used: double, memory_used: double]"
      ]
     },
     "execution_count": 17,
     "metadata": {},
     "output_type": "execute_result"
    }
   ],
   "source": [
    "# Removing RDDs from memory\n",
    "resources_requested_service.unpersist()\n",
    "jobs_service.unpersist()\n",
    "        \n",
    "resources_requested_batch.unpersist()\n",
    "jobs_batch.unpersist()"
   ]
  },
  {
   "cell_type": "code",
   "execution_count": 18,
   "metadata": {
    "collapsed": false
   },
   "outputs": [
    {
     "name": "stdout",
     "output_type": "stream",
     "text": [
      "Plotting CPU-service\n",
      "    Max value for CPU-service: Row(cpu_used=689.280029296875, count=1)\n",
      "    Number of original points: 365963050\n",
      "    Number of point on X: 3442623\n",
      "    Number of point on Y: 3442623\n",
      "Plotting Memory-service\n",
      "    Max value for Memory-service: Row(memory_used=4.069872365344316, count=2)\n",
      "    Number of original points: 365963050\n",
      "    Number of point on X: 1894686\n",
      "    Number of point on Y: 1894686\n",
      "Plotting CPU-service-no-errors\n",
      "    Max value for CPU-service-no-errors: Row(cpu_used=1.0, count=28582)\n",
      "    Number of original points: 341889660\n",
      "    Number of point on X: 3183248\n",
      "    Number of point on Y: 3183248\n",
      "Plotting Memory-service-no-errors\n",
      "    Max value for Memory-service-no-errors: Row(memory_used=1.0, count=98652)\n",
      "    Number of original points: 280848979\n",
      "    Number of point on X: 1814381\n",
      "    Number of point on Y: 1814381\n",
      "Plotting CPU-batch\n",
      "    Max value for CPU-batch: Row(cpu_used=232431.56831475632, count=1)\n",
      "    Number of original points: 546148473\n",
      "    Number of point on X: 5525100\n",
      "    Number of point on Y: 5525100\n",
      "Plotting Memory-batch\n",
      "    Max value for Memory-batch: Row(memory_used=1827.618730326527, count=1)\n",
      "    Number of original points: 570819727\n",
      "    Number of point on X: 4718540\n",
      "    Number of point on Y: 4718540\n",
      "Plotting CPU-batch-no-errors\n",
      "    Max value for CPU-batch-no-errors: Row(cpu_used=1.0, count=88743)\n",
      "    Number of original points: 468338757\n",
      "    Number of point on X: 4291666\n",
      "    Number of point on Y: 4291666\n",
      "Plotting Memory-batch-no-errors\n",
      "    Max value for Memory-batch-no-errors: Row(memory_used=1.0, count=72557)\n",
      "    Number of original points: 559820879\n",
      "    Number of point on X: 4599824\n",
      "    Number of point on Y: 4599824\n"
     ]
    },
    {
     "data": {
      "image/png": "[encoded data removed]",
      "text/plain": [
       "<matplotlib.figure.Figure at 0x7f89b61dbe10>"
      ]
     },
     "metadata": {},
     "output_type": "display_data"
    }
   ],
   "source": [
    "%matplotlib inline\n",
    "import matplotlib.pyplot as plt\n",
    "import numpy as np\n",
    "\n",
    "# plt.xscale(\"log\")\n",
    "plt.xlim([0,1])\n",
    "\n",
    "datas = [(\"CPU-service\", cpus_service), (\"Memory-service\", memory_service),\n",
    "        (\"CPU-service-no-errors\", cpus_service_without_errors), (\"Memory-service-no-errors\", memory_service_without_errors),\n",
    "       (\"CPU-batch\", cpus_batch), (\"Memory-batch\", memory_batch),\n",
    "        (\"CPU-batch-no-errors\", cpus_batch_without_errors), (\"Memory-batch-no-errors\", memory_batch_without_errors)]\n",
    "\n",
    "for key, data in datas:\n",
    "    print(\"Plotting {}\".format(key))\n",
    "    print(\"    Max value for {}: {}\".format(key, max(data)))\n",
    "    total_record = 0\n",
    "    for value in data:\n",
    "        total_record += value[1]\n",
    "    print(\"    Number of original points: {}\".format(total_record))\n",
    "\n",
    "    x = []\n",
    "    y = []\n",
    "    i = 1\n",
    "    for value in data:\n",
    "        x.append(value[0])\n",
    "        y.append(i / float(total_record))\n",
    "        if value[1] > 1:\n",
    "            x.append(value[0])\n",
    "            i += value[1] - 1\n",
    "            y.append(i / float(total_record))\n",
    "        i += 1\n",
    "\n",
    "    print(\"    Number of point on X: {}\".format(len(x)))\n",
    "    print(\"    Number of point on Y: {}\".format(len(y)))\n",
    "\n",
    "\n",
    "    plt.plot(np.array(x), np.array(y), label=key)\n",
    "    \n",
    "title = plt.title(\"Resources Slack\")\n",
    "xlabel = plt.xlabel(\"Ratio\")\n",
    "leg = plt.legend(loc=\"upper right\", bbox_to_anchor=(1.65, 1.02))\n",
    "\n",
    "plt.savefig(\"resources_slack.pdf\", bbox_extra_artists=(leg, xlabel, title), bbox_inches='tight')"
   ]
  }
 ],
 "metadata": {
  "kernelspec": {
   "display_name": "Python 3",
   "language": "python",
   "name": "python3"
  },
  "language_info": {
   "codemirror_mode": {
    "name": "ipython",
    "version": 3.0
   },
   "file_extension": ".py",
   "mimetype": "text/x-python",
   "name": "python",
   "nbconvert_exporter": "python",
   "pygments_lexer": "ipython3",
   "version": "3.5.2"
  }
 },
 "nbformat": 4,
 "nbformat_minor": 0
}
